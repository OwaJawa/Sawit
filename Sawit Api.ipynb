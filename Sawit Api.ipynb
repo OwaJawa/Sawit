{
 "cells": [
  {
   "cell_type": "markdown",
   "metadata": {},
   "source": [
    "# **  Apakah Ada Kemungkinan Kebakaran Hutan Ditujukan Untuk Pembesaran Lahan Sawit?  **\n",
    "\n",
    "  Adityo Sanjaya  [Profile](https://drive.google.com/file/d/0ByWf0wRngyZObHN0Mzd2dDhOUUZJQ0dKWkxOaGw0dzB4N3NJ/view?usp=sharing)\n",
    "  \n",
    "                                               \n",
    "Pada September s/d Oktober 2015, muncul kebakaran hutan di beberapa provinsi di Indonesia. Hal ini menyebabkan munculnya kabut asap di beberapa provinsi tersebut dan beberapa negara tetangga. Dengan menggunakan dua variables yang paling menggambarkan dugaan tersebut, luas kebakaran hutan dan luas perkebunan kelapa sawit, saya menemukan terdapat kemungkinan bahwa kebakaran hutan ditujukan untuk pembesaran kelapa sawit. Saya menemukan bahwa besarnya luas kebakaran hutan di tahun sebelumnya di setiap provinsi, secara rata-rata memprediksi besarnya lahan perkebunan pada masa sekarang. \n",
    "\n",
    "\n",
    "Berikut adalah visualisasi kebakaran hutan dan persebaaran asap di Indonesia [contoh visualisasi](http://earth.nullschool.net/#current/chem/surface/level/overlay=cosc/equirectangular=-251.53,0.92,3000)\n",
    "\n",
    "Analisis ini dibagi menjadi empat bagian:\n",
    "\n",
    "### I. Data\n",
    "\n",
    "### II. Exploratory Data Analysis (EDA)\n",
    "\n",
    "#### II.1  *Summary* Data\n",
    "\n",
    "#### II.2 *Standardization* pada Data\n",
    "\n",
    "#### II.3 *Plotting* atas Data\n",
    "\n",
    "### III. Simple (Wrong) Regression\n",
    "\n",
    "#### III.1 OLS\n",
    "\n",
    "#### III.2 Robust Linear Model\n",
    "\n",
    "### IV Panel Regression\n",
    "\n",
    "#### IV.1 Panel Regression (Wrong)\n",
    "\n",
    "#### IV.2 Panel Dynamics Regression\n",
    "\n",
    "### V. Pengecekan Asumsi\n",
    "\n",
    "#### V.1 Heterogenitas Individu\n",
    "\n",
    "#### V.2 Stasioneritas \n"
   ]
  },
  {
   "cell_type": "markdown",
   "metadata": {},
   "source": [
    "## I. Data\n",
    "\n",
    "Saya menggunakan data dari 2 sumber:\n",
    " 1. [Data Luas Kebakaran per Provinsi Kementrian Lingkungan Hidup](http://sipongi.menlhk.go.id/hotspot/luas_kebakaran)\n",
    " 2. [Data Luas Perkebunan Kelapa Sawit per Provinsi Kementrian Pertanian](http://www.pertanian.go.id/IP%20ASEM%202014%20Bun/Areal-KelapaSawit.pdf)\n",
    " \n",
    "Kedua data tersebut merupakan data longitudinal. Saya memilih *subset* dari *sample* yang memiliki nilai individu x time terbanyak untuk mendapatkan maximal data, dan meminimalisir pengaruh *unbalanced data*. Saya mendapatkan data sebagai berikut:"
   ]
  },
  {
   "cell_type": "code",
   "execution_count": 136,
   "metadata": {
    "collapsed": false
   },
   "outputs": [
    {
     "data": {
      "text/html": [
       "<table>\n",
       "<thead><tr><th></th><th scope=col>Tahun.Provinsi</th><th scope=col>Prov</th><th scope=col>Luas.Kebakaran.Hutan.t</th><th scope=col>Luas.Lahan.Kelapa.Sawit.t1</th></tr></thead>\n",
       "<tbody>\n",
       "\t<tr><th scope=row>1</th><td>2011</td><td>Jambi</td><td>89,00</td><td>687892</td></tr>\n",
       "\t<tr><th scope=row>2</th><td>2012</td><td>Jambi</td><td>11,25</td><td>657929</td></tr>\n",
       "\t<tr><th scope=row>3</th><td>2013</td><td>Jambi</td><td>199,10</td><td>688810</td></tr>\n",
       "\t<tr><th scope=row>4</th><td>2011</td><td>Kalimantan Barat</td><td>50,00</td><td>885075</td></tr>\n",
       "\t<tr><th scope=row>5</th><td>2012</td><td>Kalimantan Barat</td><td>577,40</td><td>914835</td></tr>\n",
       "\t<tr><th scope=row>6</th><td>2013</td><td>Kalimantan Barat</td><td>22,70</td><td>959226</td></tr>\n",
       "\t<tr><th scope=row>7</th><td>2012</td><td>Kalimantan Selatan</td><td>60,50</td><td>475739</td></tr>\n",
       "\t<tr><th scope=row>8</th><td>2013</td><td>Kalimantan Selatan</td><td>417,50</td><td>499873</td></tr>\n",
       "\t<tr><th scope=row>9</th><td>2011</td><td>Kalimantan Tengah</td><td>22,00</td><td>1024973</td></tr>\n",
       "\t<tr><th scope=row>10</th><td>2012</td><td>Kalimantan Tengah</td><td>55,15</td><td>1099692</td></tr>\n",
       "\t<tr><th scope=row>11</th><td>2013</td><td>Kalimantan Tengah</td><td>3.1</td><td>1156653</td></tr>\n",
       "\t<tr><th scope=row>12</th><td>2011</td><td>Kalimantan Timur</td><td>148,80</td><td>716662</td></tr>\n",
       "\t<tr><th scope=row>13</th><td>2012</td><td>Kalimantan Timur</td><td>51,50</td><td>816257</td></tr>\n",
       "\t<tr><th scope=row>14</th><td>2011</td><td>Riau</td><td>74,50</td><td>2037733</td></tr>\n",
       "\t<tr><th scope=row>15</th><td>2012</td><td>Riau</td><td>1.060,00</td><td>2193721</td></tr>\n",
       "\t<tr><th scope=row>16</th><td>2013</td><td>Riau</td><td>1.077,50</td><td>2296849</td></tr>\n",
       "\t<tr><th scope=row>17</th><td>2011</td><td>Sulawesi Selatan</td><td>31,75</td><td>41982</td></tr>\n",
       "\t<tr><th scope=row>18</th><td>2012</td><td>Sulawesi Selatan</td><td>45,30</td><td>36262</td></tr>\n",
       "\t<tr><th scope=row>19</th><td>2013</td><td>Sulawesi Selatan</td><td>40,50</td><td>37806</td></tr>\n",
       "\t<tr><th scope=row>20</th><td>2011</td><td>Sulawesi Tengah</td><td>1</td><td>112661</td></tr>\n",
       "\t<tr><th scope=row>21</th><td>2012</td><td>Sulawesi Tengah</td><td>30,83</td><td>140882</td></tr>\n",
       "\t<tr><th scope=row>22</th><td>2013</td><td>Sulawesi Tengah</td><td>1,00</td><td>147757</td></tr>\n",
       "\t<tr><th scope=row>23</th><td>2011</td><td>Sulawesi Tenggara</td><td>85,90</td><td>376858</td></tr>\n",
       "\t<tr><th scope=row>24</th><td>2012</td><td>Sulawesi Tenggara</td><td>346,10</td><td>364208</td></tr>\n",
       "\t<tr><th scope=row>25</th><td>2013</td><td>Sulawesi Tenggara</td><td>13,00</td><td>381754</td></tr>\n",
       "\t<tr><th scope=row>26</th><td>2011</td><td>Sumatera Selatan</td><td>84,50</td><td>821391</td></tr>\n",
       "\t<tr><th scope=row>27</th><td>2013</td><td>Sumatera Selatan</td><td>484,15</td><td>1111050</td></tr>\n",
       "\t<tr><th scope=row>28</th><td>2011</td><td>Sumatera Utara</td><td>5,00</td><td>1192466</td></tr>\n",
       "\t<tr><th scope=row>29</th><td>2012</td><td>Sumatera Utara</td><td>1.181,00</td><td>1340348</td></tr>\n",
       "\t<tr><th scope=row>30</th><td>2013</td><td>Sumatera Utara</td><td>295,40</td><td>1392532</td></tr>\n",
       "</tbody>\n",
       "</table>\n"
      ],
      "text/latex": [
       "\\begin{tabular}{r|llll}\n",
       "  & Tahun.Provinsi & Prov & Luas.Kebakaran.Hutan.t & Luas.Lahan.Kelapa.Sawit.t1\\\\\n",
       "\\hline\n",
       "\t1 & 2011 & Jambi & 89,00 & 687892\\\\\n",
       "\t2 & 2012 & Jambi & 11,25 & 657929\\\\\n",
       "\t3 & 2013 & Jambi & 199,10 & 688810\\\\\n",
       "\t4 & 2011 & Kalimantan Barat & 50,00 & 885075\\\\\n",
       "\t5 & 2012 & Kalimantan Barat & 577,40 & 914835\\\\\n",
       "\t6 & 2013 & Kalimantan Barat & 22,70 & 959226\\\\\n",
       "\t7 & 2012 & Kalimantan Selatan & 60,50 & 475739\\\\\n",
       "\t8 & 2013 & Kalimantan Selatan & 417,50 & 499873\\\\\n",
       "\t9 & 2011 & Kalimantan Tengah & 22,00 & 1024973\\\\\n",
       "\t10 & 2012 & Kalimantan Tengah & 55,15 & 1099692\\\\\n",
       "\t11 & 2013 & Kalimantan Tengah & 3.1 & 1156653\\\\\n",
       "\t12 & 2011 & Kalimantan Timur & 148,80 & 716662\\\\\n",
       "\t13 & 2012 & Kalimantan Timur & 51,50 & 816257\\\\\n",
       "\t14 & 2011 & Riau & 74,50 & 2037733\\\\\n",
       "\t15 & 2012 & Riau & 1.060,00 & 2193721\\\\\n",
       "\t16 & 2013 & Riau & 1.077,50 & 2296849\\\\\n",
       "\t17 & 2011 & Sulawesi Selatan & 31,75 & 41982\\\\\n",
       "\t18 & 2012 & Sulawesi Selatan & 45,30 & 36262\\\\\n",
       "\t19 & 2013 & Sulawesi Selatan & 40,50 & 37806\\\\\n",
       "\t20 & 2011 & Sulawesi Tengah & 1 & 112661\\\\\n",
       "\t21 & 2012 & Sulawesi Tengah & 30,83 & 140882\\\\\n",
       "\t22 & 2013 & Sulawesi Tengah & 1,00 & 147757\\\\\n",
       "\t23 & 2011 & Sulawesi Tenggara & 85,90 & 376858\\\\\n",
       "\t24 & 2012 & Sulawesi Tenggara & 346,10 & 364208\\\\\n",
       "\t25 & 2013 & Sulawesi Tenggara & 13,00 & 381754\\\\\n",
       "\t26 & 2011 & Sumatera Selatan & 84,50 & 821391\\\\\n",
       "\t27 & 2013 & Sumatera Selatan & 484,15 & 1111050\\\\\n",
       "\t28 & 2011 & Sumatera Utara & 5,00 & 1192466\\\\\n",
       "\t29 & 2012 & Sumatera Utara & 1.181,00 & 1340348\\\\\n",
       "\t30 & 2013 & Sumatera Utara & 295,40 & 1392532\\\\\n",
       "\\end{tabular}\n"
      ],
      "text/plain": [
       "   Tahun.Provinsi               Prov Luas.Kebakaran.Hutan.t\n",
       "1            2011              Jambi                  89,00\n",
       "2            2012              Jambi                  11,25\n",
       "3            2013              Jambi                 199,10\n",
       "4            2011   Kalimantan Barat                  50,00\n",
       "5            2012   Kalimantan Barat                 577,40\n",
       "6            2013   Kalimantan Barat                  22,70\n",
       "7            2012 Kalimantan Selatan                  60,50\n",
       "8            2013 Kalimantan Selatan                 417,50\n",
       "9            2011  Kalimantan Tengah                  22,00\n",
       "10           2012  Kalimantan Tengah                  55,15\n",
       "11           2013  Kalimantan Tengah                    3.1\n",
       "12           2011   Kalimantan Timur                 148,80\n",
       "13           2012   Kalimantan Timur                  51,50\n",
       "14           2011               Riau                  74,50\n",
       "15           2012               Riau               1.060,00\n",
       "16           2013               Riau               1.077,50\n",
       "17           2011   Sulawesi Selatan                  31,75\n",
       "18           2012   Sulawesi Selatan                  45,30\n",
       "19           2013   Sulawesi Selatan                  40,50\n",
       "20           2011    Sulawesi Tengah                      1\n",
       "21           2012    Sulawesi Tengah                  30,83\n",
       "22           2013    Sulawesi Tengah                   1,00\n",
       "23           2011  Sulawesi Tenggara                  85,90\n",
       "24           2012  Sulawesi Tenggara                 346,10\n",
       "25           2013  Sulawesi Tenggara                  13,00\n",
       "26           2011   Sumatera Selatan                  84,50\n",
       "27           2013   Sumatera Selatan                 484,15\n",
       "28           2011     Sumatera Utara                   5,00\n",
       "29           2012     Sumatera Utara               1.181,00\n",
       "30           2013     Sumatera Utara                 295,40\n",
       "   Luas.Lahan.Kelapa.Sawit.t1\n",
       "1                      687892\n",
       "2                      657929\n",
       "3                      688810\n",
       "4                      885075\n",
       "5                      914835\n",
       "6                      959226\n",
       "7                      475739\n",
       "8                      499873\n",
       "9                     1024973\n",
       "10                    1099692\n",
       "11                    1156653\n",
       "12                     716662\n",
       "13                     816257\n",
       "14                    2037733\n",
       "15                    2193721\n",
       "16                    2296849\n",
       "17                      41982\n",
       "18                      36262\n",
       "19                      37806\n",
       "20                     112661\n",
       "21                     140882\n",
       "22                     147757\n",
       "23                     376858\n",
       "24                     364208\n",
       "25                     381754\n",
       "26                     821391\n",
       "27                    1111050\n",
       "28                    1192466\n",
       "29                    1340348\n",
       "30                    1392532"
      ]
     },
     "execution_count": 136,
     "metadata": {},
     "output_type": "execute_result"
    }
   ],
   "source": [
    "DataSawitBersih <- read.csv(file=\"Data Sawit Bersih.csv\",head=TRUE,sep=\",\")\n",
    "DataSawitBersih"
   ]
  },
  {
   "cell_type": "markdown",
   "metadata": {},
   "source": [
    "Tabel 1. Data luas kebakaran hutan dan luas perkebunan kelapa sawit dalam satu provinsi\n",
    " \n",
    "1. tahun adalah periode dari kebakaran hutan, perlu digarisbawahi bahwa luas kelapa sawit adalah data periode mmendatang\n",
    "2. luas kebakaran hutan adalah data luas wilayah kebakaran hutan di satu provinsi di *periode sekarang*\n",
    "3. lahan luas kelapa sawit adalah data luas wilayah kebakaran hutan di satu provinsi di *periode mendatang*. Contoh pada baris 1, menunjukan luas kebakaran pada Provinsi Jambi pada tahun 2011, dan luas lahan kelapa sawit pada tahun 2012. \n",
    "\n",
    "Kemudian saya menggunakan angka sebagai penanda provinsi sesuai gambar 1, e.g, 1 adalah Jambi, 2 adalah Kalimantan Barat, dst, sebagai berikut:"
   ]
  },
  {
   "cell_type": "code",
   "execution_count": 137,
   "metadata": {
    "collapsed": false
   },
   "outputs": [
    {
     "data": {
      "text/html": [
       "<table>\n",
       "<thead><tr><th></th><th scope=col>Year</th><th scope=col>Prov</th><th scope=col>Api</th><th scope=col>Sawit</th></tr></thead>\n",
       "<tbody>\n",
       "\t<tr><th scope=row>1</th><td>2011</td><td>1</td><td>89</td><td>687892</td></tr>\n",
       "\t<tr><th scope=row>2</th><td>2012</td><td>1</td><td>11.25</td><td>657929</td></tr>\n",
       "\t<tr><th scope=row>3</th><td>2013</td><td>1</td><td>199.1</td><td>688810</td></tr>\n",
       "\t<tr><th scope=row>4</th><td>2011</td><td>2</td><td>50</td><td>885075</td></tr>\n",
       "\t<tr><th scope=row>5</th><td>2012</td><td>2</td><td>577.4</td><td>914835</td></tr>\n",
       "\t<tr><th scope=row>6</th><td>2013</td><td>2</td><td>22.7</td><td>959226</td></tr>\n",
       "\t<tr><th scope=row>7</th><td>2012</td><td>3</td><td>60.5</td><td>475739</td></tr>\n",
       "\t<tr><th scope=row>8</th><td>2013</td><td>3</td><td>417.5</td><td>499873</td></tr>\n",
       "\t<tr><th scope=row>9</th><td>2011</td><td>4</td><td>22</td><td>1024973</td></tr>\n",
       "\t<tr><th scope=row>10</th><td>2012</td><td>4</td><td>55.15</td><td>1099692</td></tr>\n",
       "\t<tr><th scope=row>11</th><td>2013</td><td>4</td><td>3.1</td><td>1156653</td></tr>\n",
       "\t<tr><th scope=row>12</th><td>2011</td><td>5</td><td>148.8</td><td>716662</td></tr>\n",
       "\t<tr><th scope=row>13</th><td>2012</td><td>5</td><td>51.5</td><td>816257</td></tr>\n",
       "\t<tr><th scope=row>14</th><td>2011</td><td>6</td><td>74.5</td><td>2037733</td></tr>\n",
       "\t<tr><th scope=row>15</th><td>2012</td><td>6</td><td>1060</td><td>2193721</td></tr>\n",
       "\t<tr><th scope=row>16</th><td>2013</td><td>6</td><td>1077.5</td><td>2296849</td></tr>\n",
       "\t<tr><th scope=row>17</th><td>2011</td><td>7</td><td>31.75</td><td>41982</td></tr>\n",
       "\t<tr><th scope=row>18</th><td>2012</td><td>7</td><td>45.3</td><td>36262</td></tr>\n",
       "\t<tr><th scope=row>19</th><td>2013</td><td>7</td><td>40.5</td><td>37806</td></tr>\n",
       "\t<tr><th scope=row>20</th><td>2011</td><td>8</td><td>1</td><td>112661</td></tr>\n",
       "\t<tr><th scope=row>21</th><td>2012</td><td>8</td><td>30.83</td><td>140882</td></tr>\n",
       "\t<tr><th scope=row>22</th><td>2013</td><td>8</td><td>1</td><td>147757</td></tr>\n",
       "\t<tr><th scope=row>23</th><td>2011</td><td>9</td><td>85.9</td><td>376858</td></tr>\n",
       "\t<tr><th scope=row>24</th><td>2012</td><td>9</td><td>346.1</td><td>364208</td></tr>\n",
       "\t<tr><th scope=row>25</th><td>2013</td><td>9</td><td>13</td><td>381754</td></tr>\n",
       "\t<tr><th scope=row>26</th><td>2011</td><td>10</td><td>84.5</td><td>821391</td></tr>\n",
       "\t<tr><th scope=row>27</th><td>2013</td><td>10</td><td>484.15</td><td>1111050</td></tr>\n",
       "\t<tr><th scope=row>28</th><td>2011</td><td>11</td><td>5</td><td>1192466</td></tr>\n",
       "\t<tr><th scope=row>29</th><td>2012</td><td>11</td><td>1181</td><td>1340348</td></tr>\n",
       "\t<tr><th scope=row>30</th><td>2013</td><td>11</td><td>295.4</td><td>1392532</td></tr>\n",
       "</tbody>\n",
       "</table>\n"
      ],
      "text/latex": [
       "\\begin{tabular}{r|llll}\n",
       "  & Year & Prov & Api & Sawit\\\\\n",
       "\\hline\n",
       "\t1 & 2011 & 1 & 89 & 687892\\\\\n",
       "\t2 & 2012 & 1 & 11.25 & 657929\\\\\n",
       "\t3 & 2013 & 1 & 199.1 & 688810\\\\\n",
       "\t4 & 2011 & 2 & 50 & 885075\\\\\n",
       "\t5 & 2012 & 2 & 577.4 & 914835\\\\\n",
       "\t6 & 2013 & 2 & 22.7 & 959226\\\\\n",
       "\t7 & 2012 & 3 & 60.5 & 475739\\\\\n",
       "\t8 & 2013 & 3 & 417.5 & 499873\\\\\n",
       "\t9 & 2011 & 4 & 22 & 1024973\\\\\n",
       "\t10 & 2012 & 4 & 55.15 & 1099692\\\\\n",
       "\t11 & 2013 & 4 & 3.1 & 1156653\\\\\n",
       "\t12 & 2011 & 5 & 148.8 & 716662\\\\\n",
       "\t13 & 2012 & 5 & 51.5 & 816257\\\\\n",
       "\t14 & 2011 & 6 & 74.5 & 2037733\\\\\n",
       "\t15 & 2012 & 6 & 1060 & 2193721\\\\\n",
       "\t16 & 2013 & 6 & 1077.5 & 2296849\\\\\n",
       "\t17 & 2011 & 7 & 31.75 & 41982\\\\\n",
       "\t18 & 2012 & 7 & 45.3 & 36262\\\\\n",
       "\t19 & 2013 & 7 & 40.5 & 37806\\\\\n",
       "\t20 & 2011 & 8 & 1 & 112661\\\\\n",
       "\t21 & 2012 & 8 & 30.83 & 140882\\\\\n",
       "\t22 & 2013 & 8 & 1 & 147757\\\\\n",
       "\t23 & 2011 & 9 & 85.9 & 376858\\\\\n",
       "\t24 & 2012 & 9 & 346.1 & 364208\\\\\n",
       "\t25 & 2013 & 9 & 13 & 381754\\\\\n",
       "\t26 & 2011 & 10 & 84.5 & 821391\\\\\n",
       "\t27 & 2013 & 10 & 484.15 & 1111050\\\\\n",
       "\t28 & 2011 & 11 & 5 & 1192466\\\\\n",
       "\t29 & 2012 & 11 & 1181 & 1340348\\\\\n",
       "\t30 & 2013 & 11 & 295.4 & 1392532\\\\\n",
       "\\end{tabular}\n"
      ],
      "text/plain": [
       "   Year Prov     Api   Sawit\n",
       "1  2011    1   89.00  687892\n",
       "2  2012    1   11.25  657929\n",
       "3  2013    1  199.10  688810\n",
       "4  2011    2   50.00  885075\n",
       "5  2012    2  577.40  914835\n",
       "6  2013    2   22.70  959226\n",
       "7  2012    3   60.50  475739\n",
       "8  2013    3  417.50  499873\n",
       "9  2011    4   22.00 1024973\n",
       "10 2012    4   55.15 1099692\n",
       "11 2013    4    3.10 1156653\n",
       "12 2011    5  148.80  716662\n",
       "13 2012    5   51.50  816257\n",
       "14 2011    6   74.50 2037733\n",
       "15 2012    6 1060.00 2193721\n",
       "16 2013    6 1077.50 2296849\n",
       "17 2011    7   31.75   41982\n",
       "18 2012    7   45.30   36262\n",
       "19 2013    7   40.50   37806\n",
       "20 2011    8    1.00  112661\n",
       "21 2012    8   30.83  140882\n",
       "22 2013    8    1.00  147757\n",
       "23 2011    9   85.90  376858\n",
       "24 2012    9  346.10  364208\n",
       "25 2013    9   13.00  381754\n",
       "26 2011   10   84.50  821391\n",
       "27 2013   10  484.15 1111050\n",
       "28 2011   11    5.00 1192466\n",
       "29 2012   11 1181.00 1340348\n",
       "30 2013   11  295.40 1392532"
      ]
     },
     "execution_count": 137,
     "metadata": {},
     "output_type": "execute_result"
    }
   ],
   "source": [
    "DataSawitUnbalanced <- read.csv(file=\"DataSawitUnbalanced.csv\",head=TRUE,sep=\",\")\n",
    "DataSawitUnbalanced\n"
   ]
  },
  {
   "cell_type": "markdown",
   "metadata": {},
   "source": [
    "Tabel 2. Data luas kebakaran hutan pada periode sekarang dan luas lahan sawit pada tahun berikutnya. "
   ]
  },
  {
   "cell_type": "markdown",
   "metadata": {},
   "source": [
    "## II. Exploratory Data Analysis (EDA)"
   ]
  },
  {
   "cell_type": "markdown",
   "metadata": {},
   "source": [
    "Pada EDA, saya mencoba untuk menjelaskan karakteristik pada data menggunakan *data visualization*.\n",
    "1. Memberikan *summary* atas data. \n",
    "2. Melakukan transformasi data dengan melakukan standardisasi atas standard deviation.\n",
    "3. Melakukan plotting atas data, memperlihatkan pengaruh *input* terhadap *output*."
   ]
  },
  {
   "cell_type": "markdown",
   "metadata": {},
   "source": [
    "  ### II.1 *Summary* Data\n",
    "    \n",
    "   Berikut adalah *summary* atas data Luas Kebakaran Hutan, dan data Luas Lahan Kelapa Sawit pada period berikutnya:"
   ]
  },
  {
   "cell_type": "code",
   "execution_count": 138,
   "metadata": {
    "collapsed": false
   },
   "outputs": [
    {
     "data": {
      "text/plain": [
       "   Min. 1st Qu.  Median    Mean 3rd Qu.    Max. \n",
       "   1.00   24.73   57.82  218.80  271.30 1181.00 "
      ]
     },
     "execution_count": 138,
     "metadata": {},
     "output_type": "execute_result"
    }
   ],
   "source": [
    "summary(DataSawitUnbalanced$Api)"
   ]
  },
  {
   "cell_type": "code",
   "execution_count": 139,
   "metadata": {
    "collapsed": false
   },
   "outputs": [
    {
     "data": {
      "text/plain": [
       "   Min. 1st Qu.  Median    Mean 3rd Qu.    Max. \n",
       "  36260  378100  766500  820300 1108000 2297000 "
      ]
     },
     "execution_count": 139,
     "metadata": {},
     "output_type": "execute_result"
    }
   ],
   "source": [
    "summary(DataSawitUnbalanced$Sawit)"
   ]
  },
  {
   "cell_type": "code",
   "execution_count": 140,
   "metadata": {
    "collapsed": false
   },
   "outputs": [
    {
     "data": {
      "text/html": [
       "<table>\n",
       "<thead><tr><th scope=col>Variance.Api</th><th scope=col>Variance.Sawit</th><th scope=col>Covariance</th></tr></thead>\n",
       "<tbody>\n",
       "\t<tr><td>1.138032e+05</td><td>3.714785e+11</td><td>1.248015e+08</td></tr>\n",
       "</tbody>\n",
       "</table>\n"
      ],
      "text/latex": [
       "\\begin{tabular}{lll}\n",
       " Variance.Api & Variance.Sawit & Covariance\\\\\n",
       "\\hline\n",
       "\t 1.138032e+05 & 3.714785e+11 & 1.248015e+08\\\\\n",
       "\\end{tabular}\n"
      ],
      "text/markdown": [
       "1. 113803.163887471\n",
       "2. 371478469211.545\n",
       "3. 124801468.243241\n",
       "\n",
       "\n"
      ],
      "text/plain": [
       "     Variance.Api Variance.Sawit Covariance\n",
       "[1,]     113803.2   371478469212  124801468"
      ]
     },
     "execution_count": 140,
     "metadata": {},
     "output_type": "execute_result"
    }
   ],
   "source": [
    "Variance.Api <- var(DataSawitUnbalanced$Api)\n",
    "Variance.Sawit <- var(DataSawitUnbalanced$Sawit)\n",
    "Covariance <- cov(DataSawitUnbalanced$Api, DataSawitUnbalanced$Sawit)\n",
    "\n",
    "plotvar <- cbind(Variance.Api, Variance.Sawit, Covariance)\n",
    "plotvar"
   ]
  },
  {
   "cell_type": "markdown",
   "metadata": {},
   "source": [
    "### II.2 *Standardization* pada Data\n",
    "\n",
    "Kemudian saya mengubah skala dari variabel luas lahan kebakaran dan luas lahan kelapa sawit mengikuti z-distribution, seperti yang disarankan oleh Gelman [Gelman (2008) pdf](http://www.stat.columbia.edu/~gelman/research/published/standardizing7.pdf), namun menggunakan hanya satu *standard deviation*\n",
    " \n",
    " \\begin{equation}\n",
    "X_i standardized = \\left(\\frac{X_i-\\mu}{\\sigma}\\right).\n",
    " \\end{equation}\n",
    " \n",
    " Sehingga saya mendapatkan variabel yang memiliki rata-rata yang sama, yang distandarisasi dengan *standard deviation*. Sehingga mendapatkan data dengan nilai *mean* yang sama sebagai berikut:\n"
   ]
  },
  {
   "cell_type": "code",
   "execution_count": 141,
   "metadata": {
    "collapsed": true
   },
   "outputs": [],
   "source": [
    "Luas_Api <- scale(DataSawitUnbalanced$Api, center = T, scale = T)\n",
    "Luas_Sawit_t1 <- scale(DataSawitUnbalanced$Sawit, center = T, scale = T)"
   ]
  },
  {
   "cell_type": "code",
   "execution_count": 72,
   "metadata": {
    "collapsed": false
   },
   "outputs": [
    {
     "data": {
      "text/plain": [
       "       V1         \n",
       " Min.   :-0.6458  \n",
       " 1st Qu.:-0.5754  \n",
       " Median :-0.4773  \n",
       " Mean   : 0.0000  \n",
       " 3rd Qu.: 0.1556  \n",
       " Max.   : 2.8521  "
      ]
     },
     "execution_count": 72,
     "metadata": {},
     "output_type": "execute_result"
    }
   ],
   "source": [
    "summary(Luas_Api)"
   ]
  },
  {
   "cell_type": "code",
   "execution_count": 68,
   "metadata": {
    "collapsed": false
   },
   "outputs": [
    {
     "data": {
      "text/plain": [
       "       V1          \n",
       " Min.   :-1.28643  \n",
       " 1st Qu.:-0.72560  \n",
       " Median :-0.08838  \n",
       " Mean   : 0.00000  \n",
       " 3rd Qu.: 0.47233  \n",
       " Max.   : 2.42255  "
      ]
     },
     "execution_count": 68,
     "metadata": {},
     "output_type": "execute_result"
    }
   ],
   "source": [
    "summary(Luas_Sawit_t1)"
   ]
  },
  {
   "cell_type": "code",
   "execution_count": 142,
   "metadata": {
    "collapsed": false
   },
   "outputs": [
    {
     "data": {
      "text/html": [
       "<table>\n",
       "<tbody>\n",
       "\t<tr><td>1.0000000</td><td>1.0000000</td><td>0.6069818</td><td>0.6069818</td></tr>\n",
       "</tbody>\n",
       "</table>\n"
      ],
      "text/latex": [
       "\\begin{tabular}{llll}\n",
       "\t 1.0000000 & 1.0000000 & 0.6069818 & 0.6069818\\\\\n",
       "\\end{tabular}\n"
      ],
      "text/markdown": [
       "1. 1\n",
       "2. 1\n",
       "3. 0.606981847183739\n",
       "4. 0.606981847183739\n",
       "\n",
       "\n"
      ],
      "text/plain": [
       "     [,1] [,2]      [,3]      [,4]\n",
       "[1,]    1    1 0.6069818 0.6069818"
      ]
     },
     "execution_count": 142,
     "metadata": {},
     "output_type": "execute_result"
    }
   ],
   "source": [
    "Variance.Api1 <- var(Luas_Api)\n",
    "Variance.Sawit1 <- var(Luas_Sawit_t1)\n",
    "Covariance1 <- cov(Luas_Api, Luas_Sawit_t1)\n",
    "Correlation1 <- cor(Luas_Api, Luas_Sawit_t1)\n",
    "\n",
    "\n",
    "plotvar1 <- cbind(Variance.Api1, Variance.Sawit1, Covariance1, Correlation1 )\n",
    "plotvar1"
   ]
  },
  {
   "cell_type": "markdown",
   "metadata": {},
   "source": [
    "### II.3 *Plotting* dari Data\n",
    "\n",
    "Saya menggunakan data yang telah distandarkan untuk memudahkan analisa visual karena memiliki skala yang sama. \n",
    "Berikut adalah penggambaran atas pola yang sama yang dimiliki oleh luas kebakaran pada periode sekarang dan luas lahan kelapa sawit pada periode berikutnya:"
   ]
  },
  {
   "cell_type": "code",
   "execution_count": 166,
   "metadata": {
    "collapsed": false
   },
   "outputs": [],
   "source": [
    "Api_ts <- ts(Luas_Api)\n",
    "Sawit_ts <- ts(Luas_Sawit_t1)\n",
    "Pseudo_time_series <- cbind( Sawit_ts, Api_ts) \n",
    "\n",
    "# plotting data, dianggap time series\n",
    "\n",
    "#plot(Pseudo_time_series, col = \"red\")\n"
   ]
  },
  {
   "cell_type": "markdown",
   "metadata": {},
   "source": [
    "\n",
    "![Co](1.png \"Correlastion vs Causation\") "
   ]
  },
  {
   "cell_type": "markdown",
   "metadata": {},
   "source": [
    "Gambar 1. Pola variabel kebakaran hutan dan luas lahan kelapa sawit.\n",
    "\n",
    "Penemuan:\n",
    "1. Terdapat pola yang sama pada data luas kebakaran hutan (Api_ts) dan  luas lahan kelapa sawit (Sawit_ts). \n",
    "2. Kemungkinan adanya *outlier* yang meningkatkan nilai estimasi (beta) pada regresi kemudian. Hal ini dapat dilihat pada gambar 1, pada (pseudo) index time 14 s/d  17, kedua grafik memiliki pola yang sama.\n",
    "\n",
    "Berikut adalah plotting dari scatterplot:"
   ]
  },
  {
   "cell_type": "code",
   "execution_count": 165,
   "metadata": {
    "collapsed": false
   },
   "outputs": [],
   "source": [
    "#qplot(Luas_Api, Luas_Sawit_t1)\n",
    "\n"
   ]
  },
  {
   "cell_type": "markdown",
   "metadata": {},
   "source": [
    "![Co](2.png \"Correlastion vs Causation\") "
   ]
  },
  {
   "cell_type": "markdown",
   "metadata": {},
   "source": [
    "gambar 2. Scatterplot Luas Kebakaran Hutan dan Luas Lahan Kelapa Sawit\n",
    "\n",
    "Kesimpulan:\n",
    "1. Kemungkinan data *joint distribution* tidak terdistribusi dengan konstan\n",
    "2. Adanya outlier di sisi kanan atas yang akan membuat nilai beta pada estimasi regresi *biased up*\n",
    "3. Akibat dari poin kedua mengharuskan menggunakan metode estimasi yang *robust* terhadap *outlier* "
   ]
  },
  {
   "cell_type": "markdown",
   "metadata": {},
   "source": [
    "\n",
    "## III. Simple (Wrong) Regression\n",
    "\n",
    "Pada bagian ini saya menggunakan metode estimasi yang sederhana namun salah. Hal ini dikarenakan metode yang saya gunakan dalam menganggap data adalah *cross section*. Namun hal ini memberikan gambaran bahwa terdapat pola yang sama, yaitu Luas kebakaran berpengaruh pada besarnya luas lahan kelapa sawit di periode mendatang. Lagi, saya mengigatkan bahwa ini adalah metode yang **salah**.\n"
   ]
  },
  {
   "cell_type": "markdown",
   "metadata": {},
   "source": [
    "#### III.1OLS Cross Section\n",
    "\n",
    "Pada bagian ini saya menggunakan metode OLS cross section untuk mengestimasi pengaruh luas kebakaran hutan pada luas lahan kelapa sawit.\n",
    "\n",
    "metode OLS yang digunakan:\n",
    "\n",
    "\n",
    "\\begin{equation}\n",
    "y=\\beta_0 +\\beta_1 x +\\varepsilon,\\quad i=1,\\dots,n.\\!\n",
    " \\end{equation}\n",
    "\n",
    "yang mana:\n",
    "\n",
    "1. y = Luas Lahan kelapa sawit (periode berikutnya)\n",
    "\n",
    "2. x = Luas Lahan hutan terbakar (periode sekarang)"
   ]
  },
  {
   "cell_type": "code",
   "execution_count": 167,
   "metadata": {
    "collapsed": false
   },
   "outputs": [
    {
     "data": {
      "text/plain": [
       "\n",
       "Call:\n",
       "lm(formula = Luas_Sawit_t1 ~ Luas_Api)\n",
       "\n",
       "Residuals:\n",
       "     Min       1Q   Median       3Q      Max \n",
       "-0.97733 -0.75472 -0.02221  0.66266  2.25713 \n",
       "\n",
       "Coefficients:\n",
       "             Estimate Std. Error t value Pr(>|t|)    \n",
       "(Intercept) 6.696e-17  1.477e-01   0.000 1.000000    \n",
       "Luas_Api    6.070e-01  1.502e-01   4.042 0.000376 ***\n",
       "---\n",
       "Signif. codes:  0 ‘***’ 0.001 ‘**’ 0.01 ‘*’ 0.05 ‘.’ 0.1 ‘ ’ 1\n",
       "\n",
       "Residual standard error: 0.8088 on 28 degrees of freedom\n",
       "Multiple R-squared:  0.3684,\tAdjusted R-squared:  0.3459 \n",
       "F-statistic: 16.33 on 1 and 28 DF,  p-value: 0.0003759\n"
      ]
     },
     "execution_count": 167,
     "metadata": {},
     "output_type": "execute_result"
    }
   ],
   "source": [
    "OLS <- lm(Luas_Sawit_t1 ~  Luas_Api )\n",
    "summary(OLS)"
   ]
  },
  {
   "cell_type": "markdown",
   "metadata": {},
   "source": [
    "** Ups, Luas_Api signifikan mempengaruhi Luas_sawit **"
   ]
  },
  {
   "cell_type": "markdown",
   "metadata": {},
   "source": [
    "![Co](3.png \"Correlastion vs Causation\") "
   ]
  },
  {
   "cell_type": "code",
   "execution_count": 106,
   "metadata": {
    "collapsed": false
   },
   "outputs": [
    {
     "name": "stderr",
     "output_type": "stream",
     "text": [
      "Loading required package: foreign\n"
     ]
    }
   ],
   "source": [
    "require(foreign)\n",
    "require(MASS)"
   ]
  },
  {
   "cell_type": "markdown",
   "metadata": {
    "collapsed": false
   },
   "source": []
  },
  {
   "cell_type": "markdown",
   "metadata": {},
   "source": [
    "#### III.1 Robust Regression Cross Section\n",
    "\n",
    "Pada bagian ini saya menggunakan metode Robust Regression dengan  iterated *re-weighted least squares* cross section untuk mengestimasi pengaruh luas kebakaran hutan pada luas lahan kelapa sawit. Metode ini digunakan karena adanya kemungkinan outlier mengakibatkan beta **Api** biased up.\n",
    "\n",
    "metode Robust Regression yang digunakan:\n",
    "\n",
    "\n",
    "\\begin{equation}\n",
    "y=\\beta_0 +\\beta_1 x +\\varepsilon,\\quad i=1,\\dots,n.\\!\n",
    " \\end{equation}\n",
    "\n",
    "yang mana:\n",
    "\n",
    "1. y = Luas Lahan kelapa sawit (periode berikutnya)\n",
    "\n",
    "2. x = Luas Lahan hutan terbakar (periode sekarang)"
   ]
  },
  {
   "cell_type": "code",
   "execution_count": 109,
   "metadata": {
    "collapsed": false
   },
   "outputs": [
    {
     "data": {
      "text/plain": [
       "\n",
       "Call: rlm(formula = Luas_Sawit_t1 ~ Luas_Api)\n",
       "Residuals:\n",
       "      Min        1Q    Median        3Q       Max \n",
       "-0.954105 -0.718872  0.002098  0.697734  2.290292 \n",
       "\n",
       "Coefficients:\n",
       "            Value   Std. Error t value\n",
       "(Intercept) -0.0279  0.1395    -0.1998\n",
       "Luas_Api     0.6193  0.1419     4.3636\n",
       "\n",
       "Residual standard error: 1.081 on 28 degrees of freedom"
      ]
     },
     "execution_count": 109,
     "metadata": {},
     "output_type": "execute_result"
    }
   ],
   "source": [
    "Robust_Regression <- rlm(Luas_Sawit_t1 ~  Luas_Api )\n",
    "summary(Robust_Regression)"
   ]
  },
  {
   "cell_type": "markdown",
   "metadata": {
    "collapsed": true
   },
   "source": [
    "![Co](4.png \"Correlastion vs Causation\") "
   ]
  },
  {
   "cell_type": "code",
   "execution_count": null,
   "metadata": {
    "collapsed": false
   },
   "outputs": [],
   "source": []
  },
  {
   "cell_type": "markdown",
   "metadata": {
    "collapsed": true
   },
   "source": [
    "### IV Panel Regression\n",
    "\n",
    "Data yang saya miliki berbentuk longitudinal, sehingga metode terbaik adalah mengguanaka Panel Regression:\n",
    " \\begin{equation}\n",
    " y_{it}=a+bx_{it}+\\epsilon_{it}\n",
    "  \\end{equation}\n",
    "\n",
    "\n",
    "\n",
    "\n",
    "yang mana:\n",
    "\n",
    "1. y = Luas Lahan kelapa sawit (periode berikutnya)\n",
    "\n",
    "2. x = Luas Lahan hutan terbakar (periode sekarang)"
   ]
  },
  {
   "cell_type": "code",
   "execution_count": 131,
   "metadata": {
    "collapsed": false,
    "scrolled": false
   },
   "outputs": [
    {
     "data": {
      "text/plain": [
       "Oneway (individual) effect Between Model\n",
       "\n",
       "Call:\n",
       "plm(formula = Sawit ~ Api, data = DataSawitUnbalanced, model = \"between\")\n",
       "\n",
       "Unbalanced Panel: n=3, T=10-10, N=30\n",
       "\n",
       "Residuals :\n",
       "   Min. 1st Qu.  Median 3rd Qu.    Max. \n",
       " -29800  -21500  -13100   14900   42900 \n",
       "\n",
       "Coefficients :\n",
       "             Estimate Std. Error t-value Pr(>|t|)  \n",
       "(Intercept) 796433.47   65409.19 12.1762  0.05217 .\n",
       "Api            109.19     262.95  0.4152  0.74944  \n",
       "---\n",
       "Signif. codes:  0 ‘***’ 0.001 ‘**’ 0.01 ‘*’ 0.05 ‘.’ 0.1 ‘ ’ 1\n",
       "\n",
       "Total Sum of Squares:    3400700000\n",
       "Residual Sum of Squares: 2900600000\n",
       "R-Squared      :  0.14707 \n",
       "      Adj. R-Squared :  0.049024 \n",
       "F-statistic: 0.172431 on 1 and 1 DF, p-value: 0.74944"
      ]
     },
     "execution_count": 131,
     "metadata": {},
     "output_type": "execute_result"
    }
   ],
   "source": [
    "library(plm)\n",
    "panel_plm <- plm(Sawit ~ Api , model = \"between\", data = DataSawitUnbalanced)\n",
    "\n",
    "summary(panel_plm)\n"
   ]
  },
  {
   "cell_type": "code",
   "execution_count": 134,
   "metadata": {
    "collapsed": false
   },
   "outputs": [
    {
     "data": {
      "text/plain": [
       "Oneway (individual) effect Between Model\n",
       "\n",
       "Call:\n",
       "plm(formula = Sawit ~ Api, data = DataSawitUnbalanced, model = \"between\")\n",
       "\n",
       "Unbalanced Panel: n=3, T=10-10, N=30\n",
       "\n",
       "Residuals :\n",
       "   Min. 1st Qu.  Median 3rd Qu.    Max. \n",
       " -29800  -21500  -13100   14900   42900 \n",
       "\n",
       "Coefficients :\n",
       "             Estimate Std. Error t-value Pr(>|t|)  \n",
       "(Intercept) 796433.47   65409.19 12.1762  0.05217 .\n",
       "Api            109.19     262.95  0.4152  0.74944  \n",
       "---\n",
       "Signif. codes:  0 ‘***’ 0.001 ‘**’ 0.01 ‘*’ 0.05 ‘.’ 0.1 ‘ ’ 1\n",
       "\n",
       "Total Sum of Squares:    3400700000\n",
       "Residual Sum of Squares: 2900600000\n",
       "R-Squared      :  0.14707 \n",
       "      Adj. R-Squared :  0.049024 \n",
       "F-statistic: 0.172431 on 1 and 1 DF, p-value: 0.74944"
      ]
     },
     "execution_count": 134,
     "metadata": {},
     "output_type": "execute_result"
    },
    {
     "data": {
      "text/plain": [
       "Oneway (individual) effect Within Model\n",
       "\n",
       "Call:\n",
       "plm(formula = Sawit ~ Api, data = DataSawitUnbalanced, model = \"within\")\n",
       "\n",
       "Unbalanced Panel: n=3, T=10-10, N=30\n",
       "\n",
       "Residuals :\n",
       "   Min. 1st Qu.  Median 3rd Qu.    Max. \n",
       "-714000 -403000  -74300  379000 1230000 \n",
       "\n",
       "Coefficients :\n",
       "    Estimate Std. Error t-value  Pr(>|t|)    \n",
       "Api  1240.44     290.16   4.275 0.0002275 ***\n",
       "---\n",
       "Signif. codes:  0 ‘***’ 0.001 ‘**’ 0.01 ‘*’ 0.05 ‘.’ 0.1 ‘ ’ 1\n",
       "\n",
       "Total Sum of Squares:    1.0739e+13\n",
       "Residual Sum of Squares: 6.3062e+12\n",
       "R-Squared      :  0.41277 \n",
       "      Adj. R-Squared :  0.35773 \n",
       "F-statistic: 18.2754 on 1 and 26 DF, p-value: 0.00022754"
      ]
     },
     "execution_count": 134,
     "metadata": {},
     "output_type": "execute_result"
    }
   ],
   "source": [
    "panel_plmb <- plm(Sawit ~ Api , model = \"between\", data = DataSawitUnbalanced)\n",
    "panel_plmw <- plm(Sawit ~ Api , model = \"within\", data = DataSawitUnbalanced)\n",
    "summary(panel_plmb)\n",
    "summary(panel_plmw)"
   ]
  },
  {
   "cell_type": "markdown",
   "metadata": {
    "collapsed": true
   },
   "source": [
    "![Correlation](http://imgs.xkcd.com/comics/correlation.png \"Correlastion vs Causation\") "
   ]
  }
 ],
 "metadata": {
  "kernelspec": {
   "display_name": "R",
   "language": "R",
   "name": "ir"
  },
  "language_info": {
   "codemirror_mode": "r",
   "file_extension": ".r",
   "mimetype": "text/x-r-source",
   "name": "R",
   "pygments_lexer": "r",
   "version": "3.2.2"
  }
 },
 "nbformat": 4,
 "nbformat_minor": 0
}
